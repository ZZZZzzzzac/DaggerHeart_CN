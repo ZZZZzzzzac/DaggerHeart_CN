{
 "cells": [
  {
   "cell_type": "code",
   "execution_count": null,
   "id": "92b5759d",
   "metadata": {},
   "outputs": [],
   "source": [
    "import llm"
   ]
  },
  {
   "cell_type": "code",
   "execution_count": 2,
   "id": "f5d53df4",
   "metadata": {},
   "outputs": [
    {
     "data": {
      "text/plain": [
       "'# H1\\n## H2\\n### H3\\n#### H4'"
      ]
     },
     "execution_count": 2,
     "metadata": {},
     "output_type": "execute_result"
    }
   ],
   "source": [
    "h = [\"# H1\", \"## H2\", \"### H3\", \"#### H4\", \"##### H5\", \"###### H6\"]\n",
    "\"\\n\".join(h[:4])"
   ]
  },
  {
   "cell_type": "code",
   "execution_count": null,
   "id": "1cb46095",
   "metadata": {},
   "outputs": [],
   "source": []
  }
 ],
 "metadata": {
  "kernelspec": {
   "display_name": "Python 3",
   "language": "python",
   "name": "python3"
  },
  "language_info": {
   "codemirror_mode": {
    "name": "ipython",
    "version": 3
   },
   "file_extension": ".py",
   "mimetype": "text/x-python",
   "name": "python",
   "nbconvert_exporter": "python",
   "pygments_lexer": "ipython3",
   "version": "3.12.0"
  }
 },
 "nbformat": 4,
 "nbformat_minor": 5
}
