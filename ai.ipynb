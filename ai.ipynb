{
 "cells": [
  {
   "cell_type": "code",
   "execution_count": 1,
   "id": "92b5759d",
   "metadata": {},
   "outputs": [],
   "source": [
    "import llm\n",
    "import converter"
   ]
  },
  {
   "cell_type": "code",
   "execution_count": 2,
   "id": "f5d53df4",
   "metadata": {},
   "outputs": [
    {
     "data": {
      "text/plain": [
       "{'Action Roll': '动作掷骰',\n",
       " 'Adversary Action': '敌方行动',\n",
       " 'Against': '对抗',\n",
       " 'Agility': '敏捷',\n",
       " 'Armor Slot': '护甲槽',\n",
       " 'Clank': '械灵',\n",
       " 'Close Range': '近距离范围',\n",
       " 'Countdown': '倒计时',\n",
       " 'Critical Success': '关键成功',\n",
       " 'Damage Threshold': '伤害阈值',\n",
       " 'Difficulty': '难度',\n",
       " 'Domain': '领域',\n",
       " 'Domain Card': '领域卡',\n",
       " 'Downtime Move': '休息行动',\n",
       " 'Drakona': '龙人',\n",
       " 'Duality Dice': '二元骰',\n",
       " 'Dwarf': '矮人',\n",
       " 'Elf': '精灵',\n",
       " 'Evasion': '闪避值',\n",
       " 'Experience': '经历',\n",
       " 'Faeire': '仙灵',\n",
       " 'Failure with Fear': '恐惧结果的失败、恐惧失败',\n",
       " 'Failure with Hope': '希望结果的失败、希望失败',\n",
       " 'Far Range': '远距离范围',\n",
       " 'Faun': '羊蹄人',\n",
       " 'Finesse': '灵巧',\n",
       " 'Firebolg': '费尔博格',\n",
       " 'Fungril': '孢菌人',\n",
       " 'Galapa': '龟人',\n",
       " 'Giant': '巨人',\n",
       " 'GM Move': 'GM行动',\n",
       " 'Goblin': '哥布林',\n",
       " 'Halfing': '半身人',\n",
       " 'Highborne': '高城之民',\n",
       " 'Hit Point': '生命点',\n",
       " 'Hope Feature': '希望特性',\n",
       " 'Human': '人类',\n",
       " 'Immunity': '免疫',\n",
       " 'Inferis': '恶魔',\n",
       " 'Instinct': '本能',\n",
       " 'Katari': '猫族',\n",
       " 'Knowledge': '知识',\n",
       " 'Loadout': '配置',\n",
       " 'Loreborne': '博识之民',\n",
       " 'Major Damage': '损伤',\n",
       " 'Melee Range': '近战范围',\n",
       " 'Minor Damage': '轻伤',\n",
       " 'Multiclass': '兼职',\n",
       " 'Once Per Session': '每场游戏一次',\n",
       " 'Orc': '兽人',\n",
       " 'Orderborne': '结社之民',\n",
       " 'Presence': '风度',\n",
       " 'Primary Weapon': '主要武器',\n",
       " 'Proficiency': '熟练',\n",
       " 'Reaction Roll': '反应掷骰',\n",
       " 'Recall Cost': '回想费用',\n",
       " 'Resistance': '抵抗',\n",
       " 'Restrained': '束缚',\n",
       " 'Ribbet': '蛙裔',\n",
       " 'Ridgeborne': '山岭之民',\n",
       " 'Roll with Fear': '骰出恐惧结果',\n",
       " 'Roll with Hope': '骰出希望结果',\n",
       " 'Rounding Up': '向上取整',\n",
       " 'Scar': '伤痕',\n",
       " 'Seaborne': '滨海之民',\n",
       " 'Secondary Weapon': '次要武器',\n",
       " 'Severe Damage': '重伤',\n",
       " 'Simiah': '猿族',\n",
       " 'Slyborne': '法外之民',\n",
       " 'Spend Fear': '花费恐惧点',\n",
       " 'Strength': '力量',\n",
       " 'Stress Point': '压力点',\n",
       " 'Success with Fear': '恐惧结果的成功、恐惧成功',\n",
       " 'Success with Hope': '希望结果的成功、希望成功',\n",
       " 'Tag Team Roll': '接力掷骰',\n",
       " 'Trait': '属性',\n",
       " 'Underborne': '地下之民',\n",
       " 'Vault': '宝库',\n",
       " 'Very Close Range': '邻近范围',\n",
       " 'Very Far Range': '极远范围',\n",
       " 'Vulnerable': '脆弱',\n",
       " 'Wanderborne': '漂泊之民',\n",
       " 'Wildborne': '荒野之民'}"
      ]
     },
     "execution_count": 2,
     "metadata": {},
     "output_type": "execute_result"
    }
   ],
   "source": [
    "converter.TERMS_GLOSSARY"
   ]
  },
  {
   "cell_type": "code",
   "execution_count": null,
   "id": "1cb46095",
   "metadata": {},
   "outputs": [],
   "source": []
  }
 ],
 "metadata": {
  "kernelspec": {
   "display_name": "Python 3",
   "language": "python",
   "name": "python3"
  },
  "language_info": {
   "codemirror_mode": {
    "name": "ipython",
    "version": 3
   },
   "file_extension": ".py",
   "mimetype": "text/x-python",
   "name": "python",
   "nbconvert_exporter": "python",
   "pygments_lexer": "ipython3",
   "version": "3.12.0"
  }
 },
 "nbformat": 4,
 "nbformat_minor": 5
}
