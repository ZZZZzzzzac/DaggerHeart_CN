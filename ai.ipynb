{
 "cells": [
  {
   "cell_type": "code",
   "execution_count": 3,
   "id": "92b5759d",
   "metadata": {},
   "outputs": [],
   "source": [
    "import llm\n",
    "import converter\n",
    "import json\n",
    "import os"
   ]
  },
  {
   "cell_type": "code",
   "execution_count": 4,
   "id": "f5d53df4",
   "metadata": {},
   "outputs": [
    {
     "name": "stdout",
     "output_type": "stream",
     "text": [
      "处理完成！新文件保存为: release/Daggerheart_Core_Rulebook-5-20-2025\\Daggerheart_Core_Rulebook_CH0.json\n",
      "处理完成！新文件保存为: release/Daggerheart_Core_Rulebook-5-20-2025\\Daggerheart_Core_Rulebook_CH1.json\n",
      "处理完成！新文件保存为: release/Daggerheart_Core_Rulebook-5-20-2025\\Daggerheart_Core_Rulebook_CH2.json\n",
      "处理完成！新文件保存为: release/Daggerheart_Core_Rulebook-5-20-2025\\Daggerheart_Core_Rulebook_CH3.json\n",
      "处理完成！新文件保存为: release/Daggerheart_Core_Rulebook-5-20-2025\\Daggerheart_Core_Rulebook_CH4.json\n",
      "处理完成！新文件保存为: release/Daggerheart_Core_Rulebook-5-20-2025\\Daggerheart_Core_Rulebook_CH5.json\n",
      "处理完成！新文件保存为: release/Daggerheart_Core_Rulebook-5-20-2025\\Daggerheart_Core_Rulebook_CH6.json\n"
     ]
    }
   ],
   "source": [
    "def move_translation_to_context(file_path):\n",
    "    # 读取JSON文件\n",
    "    with open(file_path, 'r', encoding='utf-8') as file:\n",
    "        data = json.load(file)\n",
    "    \n",
    "    # 遍历每个条目\n",
    "    for item in data:\n",
    "        # 将translation的值移到context中\n",
    "        item['context'] = item['translation']\n",
    "        # 将translation置空\n",
    "        item['translation'] = ''\n",
    "    \n",
    "    # 生成新文件名\n",
    "    file_dir = os.path.dirname(file_path)\n",
    "    file_name = os.path.basename(file_path)\n",
    "    new_file_name = os.path.splitext(file_name)[0] + '.json'\n",
    "    new_file_path = os.path.join(file_dir, new_file_name)\n",
    "    \n",
    "    # 写入新文件\n",
    "    with open(new_file_path, 'w', encoding='utf-8') as file:\n",
    "        json.dump(data, file, ensure_ascii=False, indent=1)\n",
    "    \n",
    "    print(f\"处理完成！新文件保存为: {new_file_path}\")\n",
    "\n",
    "# 使用示例\n",
    "move_translation_to_context(\"release/Daggerheart_Core_Rulebook-5-20-2025/Daggerheart_Core_Rulebook_CH0.json\")\n",
    "move_translation_to_context(\"release/Daggerheart_Core_Rulebook-5-20-2025/Daggerheart_Core_Rulebook_CH1.json\")\n",
    "move_translation_to_context(\"release/Daggerheart_Core_Rulebook-5-20-2025/Daggerheart_Core_Rulebook_CH2.json\")\n",
    "move_translation_to_context(\"release/Daggerheart_Core_Rulebook-5-20-2025/Daggerheart_Core_Rulebook_CH3.json\")\n",
    "move_translation_to_context(\"release/Daggerheart_Core_Rulebook-5-20-2025/Daggerheart_Core_Rulebook_CH4.json\")\n",
    "move_translation_to_context(\"release/Daggerheart_Core_Rulebook-5-20-2025/Daggerheart_Core_Rulebook_CH5.json\")\n",
    "move_translation_to_context(\"release/Daggerheart_Core_Rulebook-5-20-2025/Daggerheart_Core_Rulebook_CH6.json\")"
   ]
  },
  {
   "cell_type": "code",
   "execution_count": null,
   "id": "1cb46095",
   "metadata": {},
   "outputs": [],
   "source": []
  }
 ],
 "metadata": {
  "kernelspec": {
   "display_name": "Python 3",
   "language": "python",
   "name": "python3"
  },
  "language_info": {
   "codemirror_mode": {
    "name": "ipython",
    "version": 3
   },
   "file_extension": ".py",
   "mimetype": "text/x-python",
   "name": "python",
   "nbconvert_exporter": "python",
   "pygments_lexer": "ipython3",
   "version": "3.12.0"
  }
 },
 "nbformat": 4,
 "nbformat_minor": 5
}
